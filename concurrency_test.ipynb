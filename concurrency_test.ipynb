{
 "cells": [
  {
   "cell_type": "markdown",
   "id": "6aac7d75",
   "metadata": {},
   "source": [
    "# BigQuery Concurrency Tester\n",
    "\n",
    "This notebook runs a concurrency test on BigQuery. It executes a set of queries concurrently to simulate a real-world workload and then analyzes the performance and cost."
   ]
  },
  {
   "cell_type": "code",
   "execution_count": null,
   "id": "install-deps",
   "metadata": {},
   "outputs": [],
   "source": [
    "!pip install google-cloud-bigquery PyYAML numpy"
   ]
  },
  {
   "cell_type": "markdown",
   "id": "3c94a5f0",
   "metadata": {},
   "source": [
    "## Parameters\n",
    "\n",
    "The following cell defines the parameters for the test. You can change these values to match your environment."
   ]
  },
  {
   "cell_type": "code",
   "execution_count": null,
   "id": "af261ab3",
   "metadata": {},
   "outputs": [],
   "source": [
    "project_id = \"your-project-id\"\n",
    "location = \"US\"\n",
    "num_threads = 5"
   ]
  },
  {
   "cell_type": "markdown",
   "id": "281e8dc5",
   "metadata": {},
   "source": [
    "## Queries\n",
    "\n",
    "The following cells define the queries to be executed."
   ]
  },
  {
   "cell_type": "code",
   "execution_count": null,
   "id": "871c9568",
   "metadata": {},
   "outputs": [],
   "source": [
    "query1 = \"SELECT COUNT(*) FROM `bigquery-public-data.usa_names.usa_1910_2013`;\""
   ]
  },
  {
   "cell_type": "code",
   "execution_count": null,
   "id": "bf8f3b1a",
   "metadata": {},
   "outputs": [],
   "source": [
    "query2 = \"\"\"SELECT name, SUM(number) as total\n",
    "FROM `bigquery-public-data.usa_names.usa_1910_2013`\n",
    "WHERE gender = 'F'\n",
    "GROUP BY name\n",
    "ORDER BY total DESC\n",
    "LIMIT 10;\"\"\""
   ]
  },
  {
   "cell_type": "code",
   "execution_count": null,
   "id": "a9e8b6a2",
   "metadata": {},
   "outputs": [],
   "source": [
    "query3 = \"\"\"SELECT\n",
    "    t1.name,\n",
    "    t1.total,\n",
    "    t2.year,\n",
    "    t2.number AS number_in_year\n",
    "FROM (\n",
    "    SELECT name, SUM(number) as total\n",
    "    FROM `bigquery-public-data.usa_names.usa_1910_2013`\n",
    "    WHERE gender = 'M'\n",
    "    GROUP BY name\n",
    "    ORDER BY total DESC\n",
    "    LIMIT 5\n",
    ") AS t1\n",
    "JOIN `bigquery-public-data.usa_names.usa_1910_2013` AS t2\n",
    "ON t1.name = t2.name\n",
    "WHERE t2.year > 2000\n",
    "ORDER BY t2.year, t2.number DESC;\"\"\""
   ]
  },
  {
   "cell_type": "code",
   "execution_count": null,
   "id": "a8e1576c",
   "metadata": {
    "jupyter": {
     "source_hidden": true
    }
   },
   "outputs": [],
   "source": [
    "queries = [query1, query2, query3]"
   ]
  },
  {
   "cell_type": "markdown",
   "id": "bd908bec",
   "metadata": {},
   "source": [
    "## Concurrency Test Functions\n",
    "\n",
    "The following cell contains the Python functions to run the concurrency test. The cell is hidden by default."
   ]
  },
  {
   "cell_type": "code",
   "execution_count": null,
   "id": "a8e1576c",
   "metadata": {
    "jupyter": {
     "source_hidden": true
    }
   },
   "outputs": [],
   "source": [
    "from google.cloud import bigquery\n",
    "import threading\n",
    "import time\n",
    "\n",
    "def run_query(query, client):\n",
    "    try:\n",
    "        query_job = client.query(query)\n",
    "        results = query_job.result()\n",
    "        print(f\"Query finished successfully. Job ID: {query_job.job_id}\")\n",
    "    except Exception as e:\n",
    "        print(f\"Query failed: {e}\")\n",
    "\n",
    "def run_concurrency_test(queries, num_threads, client):\n",
    "    threads = []\n",
    "    for i in range(num_threads):\n",
    "        for query in queries:\n",
    "            thread = threading.Thread(target=run_query, args=(query, client))\n",
    "            threads.append(thread)\n",
    "            thread.start()\n",
    "\n",
    "    for thread in threads:\n",
    "        thread.join()"
   ]
  },
  {
   "cell_type": "markdown",
   "id": "01632267",
   "metadata": {},
   "source": [
    "## Run Concurrency Test\n",
    "\n",
    "This cell runs the concurrency test."
   ]
  },
  {
   "cell_type": "code",
   "execution_count": null,
   "id": "c59cd81f",
   "metadata": {},
   "outputs": [],
   "source": [
    "client = bigquery.Client(project=project_id, location=location)\n",
    "run_concurrency_test(queries, num_threads, client)"
   ]
  },
  {
   "cell_type": "markdown",
   "id": "bc02c026",
   "metadata": {},
   "source": [
    "## Analyze Results\n",
    "\n",
    "This cell uses BigQuery magic to query the Information Schema and analyze the results of the concurrency test. It calculates the total slot milliseconds, total bytes processed, and estimates the cost of the queries in the different BigQuery editions."
   ]
  },
  {
   "cell_type": "code",
   "execution_count": null,
   "id": "efb797d4",
   "metadata": {},
   "outputs": [],
   "source": [
    "%%bigquery\n",
    "\n",
    "WITH\n",
    "  jobs AS (\n",
    "  SELECT\n",
    "    job_id,\n",
    "    total_slot_ms,\n",
    "    total_bytes_processed\n",
    "  FROM\n",
    "    `region-us`.INFORMATION_SCHEMA.JOBS_BY_USER\n",
    "  WHERE\n",
    "    creation_time > TIMESTAMP_SUB(CURRENT_TIMESTAMP(), INTERVAL 1 HOUR)\n",
    "    AND job_type = 'QUERY'\n",
    "    AND statement_type != 'SCRIPT')\n",
    "SELECT\n",
    "  SUM(total_slot_ms) AS total_slot_ms,\n",
    "  SUM(total_bytes_processed) AS total_bytes_processed,\n",
    "  -- On-demand pricing (US multi-region): $6.25 per TB\n",
    "  (SUM(total_bytes_processed) / 1024 / 1024 / 1024 / 1024) * 6.25 AS on_demand_cost,\n",
    "  -- Standard edition pricing (US multi-region): $0.04 per slot hour\n",
    "  (SUM(total_slot_ms) / 1000 / 60 / 60) * 0.04 AS standard_edition_cost,\n",
    "  -- Enterprise edition pricing (US multi-region): $0.06 per slot hour\n",
    "  (SUM(total_slot_ms) / 1000 / 60 / 60) * 0.06 AS enterprise_edition_cost\n",
    "FROM\n",
    "  jobs;"
   ]
  }
 ],
 "metadata": {
  "language_info": {
   "name": "python"
  }
 },
 "nbformat": 4,
 "nbformat_minor": 5
}
