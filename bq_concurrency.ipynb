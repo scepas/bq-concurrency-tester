{
 "cells": [
  {
   "cell_type": "markdown",
   "id": "707c4ca6",
   "metadata": {},
   "source": [
    "# BigQuery Concurrency Tester"
   ]
  },
  {
   "cell_type": "markdown",
   "id": "af75213f",
   "metadata": {},
   "source": [
    "## 1. Imports"
   ]
  },
  {
   "cell_type": "code",
   "execution_count": null,
   "id": "f685b5d7",
   "metadata": {},
   "outputs": [],
   "source": [
    "import time\n",
    "import random\n",
    "import numpy as np\n",
    "from concurrent.futures import ThreadPoolExecutor, as_completed\n",
    "from google.cloud import bigquery"
   ]
  },
  {
   "cell_type": "markdown",
   "id": "7e5ed65f",
   "metadata": {},
   "source": [
    "## 2. Parameters"
   ]
  },
  {
   "cell_type": "code",
   "execution_count": null,
   "id": "9efdf8a9",
   "metadata": {},
   "outputs": [],
   "source": [
    "project_id = \"santi-demos\"\n",
    "location = \"US\"\n",
    "concurrency = 20\n",
    "duration_seconds = 60"
   ]
  },
  {
   "cell_type": "markdown",
   "id": "8653d122",
   "metadata": {},
   "source": [
    "## 3. Queries"
   ]
  },
  {
   "cell_type": "code",
   "execution_count": null,
   "id": "5bc2197c",
   "metadata": {},
   "outputs": [],
   "source": [
    "query1 = { \"sql\": \"\"\"SELECT COUNT(*) FROM `bigquery-public-data.usa_names.usa_1910_2013`;\"\"\", \"percentage\": 60}\n",
    "query2 = { \"sql\": \"\"\"SELECT name, SUM(number) as total\n",
    "FROM `bigquery-public-data.usa_names.usa_1910_2013`\n",
    "WHERE gender = 'F'\n",
    "GROUP BY name\n",
    "ORDER BY total DESC\n",
    "LIMIT 10;\"\"\", \"percentage\": 30}\n",
    "query3 = { \"sql\": \"\"\"SELECT\n",
    "    t1.name,\n",
    "    t1.total,\n",
    "    t2.year,\n",
    "    t2.number AS number_in_year\n",
    "FROM (\n",
    "    SELECT name, SUM(number) as total\n",
    "    FROM `bigquery-public-data.usa_names.usa_1910_2013`\n",
    "    WHERE gender = 'M'\n",
    "    GROUP BY name\n",
    "    ORDER BY total DESC\n",
    "    LIMIT 5\n",
    ") AS t1\n",
    "JOIN `bigquery-public-data.usa_names.usa_1910_2013` AS t2\n",
    "ON t1.name = t2.name\n",
    "WHERE t2.year > 2000\n",
    "ORDER BY t2.year, t2.number DESC;\"\"\", \"percentage\": 10}"
   ]
  },
  {
   "cell_type": "markdown",
   "id": "36193b77",
   "metadata": {},
   "source": [
    "## 4. Helper Functions"
   ]
  },
  {
   "cell_type": "code",
   "execution_count": null,
   "id": "3c815806",
   "metadata": {},
   "outputs": [],
   "source": [
    "def create_weighted_query_list(queries):\n",
    "    \"\"\"Creates a weighted list of queries for random selection.\"\"\"\n",
    "    weighted_list = []\n",
    "    for query in queries:\n",
    "        count = int(query['percentage'])\n",
    "        weighted_list.extend([query['sql']] * count)\n",
    "    return weighted_list\n",
    "\n",
    "def run_query(client, sql):\n",
    "    \"\"\"Executes a single BigQuery query and returns the result.\"\"\"\n",
    "    job_config = bigquery.QueryJobConfig(use_query_cache=False)\n",
    "    start_time = time.time()\n",
    "    try:\n",
    "        query_job = client.query(sql, job_config=job_config)\n",
    "        results = query_job.result()  # Wait for the job to complete\n",
    "        end_time = time.time()\n",
    "        return {\n",
    "            'success': True,\n",
    "            'duration': end_time - start_time,\n",
    "            'rows': results.total_rows\n",
    "        }\n",
    "    except Exception as e:\n",
    "        end_time = time.time()\n",
    "        return {\n",
    "            'success': False,\n",
    "            'duration': end_time - start_time,\n",
    "            'error': str(e)\n",
    "        }"
   ]
  },
  {
   "cell_type": "markdown",
   "id": "bc93a8b6",
   "metadata": {},
   "source": [
    "## 5. Main Logic"
   ]
  },
  {
   "cell_type": "code",
   "execution_count": null,
   "id": "96e03ea2",
   "metadata": {},
   "outputs": [],
   "source": [
    "queries = [query1, query2, query3]\n",
    "weighted_queries = create_weighted_query_list(queries)\n",
    "\n",
    "client = bigquery.Client(project=project_id)\n",
    "\n",
    "print(f\"Starting BigQuery concurrency test...\")\n",
    "print(f\"Project: {project_id}\")\n",
    "print(f\"Concurrency: {concurrency}\")\n",
    "print(f\"Duration: {duration_seconds} seconds\")\n",
    "print(\"-\" * 30)\n",
    "\n",
    "total_queries = 0\n",
    "successful_queries = 0\n",
    "failed_queries = 0\n",
    "query_durations = []\n",
    "\n",
    "with ThreadPoolExecutor(max_workers=concurrency) as executor:\n",
    "    futures = []\n",
    "    start_time = time.time()\n",
    "    while time.time() - start_time < duration_seconds:\n",
    "        sql = random.choice(weighted_queries)\n",
    "        futures.append(executor.submit(run_query, client, sql))\n",
    "        total_queries += 1\n",
    "        time.sleep(1 / concurrency) # To avoid submitting all queries at once\n",
    "\n",
    "    for future in as_completed(futures):\n",
    "        result = future.result()\n",
    "        if result['success']:\n",
    "            successful_queries += 1\n",
    "            query_durations.append(result['duration'])\n",
    "            print(f\"Query successful in {result['duration']:.2f}s, rows: {result['rows']}\")\n",
    "        else:\n",
    "            failed_queries += 1\n",
    "            print(f\"Query failed in {result['duration']:.2f}s, error: {result['error']}\")\n",
    "\n",
    "print(\"-\" * 30)\n",
    "print(\"Test finished.\")\n",
    "print(f\"Total queries submitted: {total_queries}\")\n",
    "print(f\"Successful queries: {successful_queries}\")\n",
    "print(f\"Failed queries: {failed_queries}\")\n",
    "\n",
    "if successful_queries > 0:\n",
    "    avg_duration = np.mean(query_durations)\n",
    "    p95_duration = np.percentile(query_durations, 95)\n",
    "    p99_duration = np.percentile(query_durations, 99)\n",
    "    throughput = successful_queries / duration_seconds\n",
    "\n",
    "    print(f\"Average query duration: {avg_duration:.2f}s\")\n",
    "    print(f\"P95 query duration: {p95_duration:.2f}s\")\n",
    "    print(f\"P99 query duration: {p99_duration:.2f}s\")\n",
    "    print(f\"Average throughput: {throughput:.2f} queries/sec\")"
   ]
  },
  {
   "cell_type": "markdown",
   "id": "332bd684",
   "metadata": {},
   "source": [
    "## Analyze Results\n",
    "\n",
    "This cell uses BigQuery magic to query the Information Schema and analyze the results of the concurrency test. It calculates the total slot milliseconds, total bytes processed, and estimates the cost of the queries in the different BigQuery editions."
   ]
  },
  {
   "cell_type": "code",
   "execution_count": null,
   "id": "dc365de0",
   "metadata": {},
   "outputs": [],
   "source": [
    "%load_ext bigquery_magics"
   ]
  },
  {
   "cell_type": "code",
   "execution_count": null,
   "id": "ca36f5ba",
   "metadata": {},
   "outputs": [],
   "source": [
    "%%bigquery\n",
    "\n",
    "%%bigquery\n",
    "\n",
    "with slots as (\n",
    "SELECT\n",
    "  res.period_start,\n",
    "  res.reservation_id,\n",
    "  jobs.project_id,\n",
    "  jobs.user_email,\n",
    "  SUM(jobs.period_slot_ms) / 1000 / 60 AS period_slot_minutes,\n",
    "  SUM(jobs.total_bytes_processed) AS total_bytes_processed,\n",
    "  ANY_VALUE(res.slots_assigned) AS slots_assigned,\n",
    "  ANY_VALUE(res.slots_max_assigned) AS slots_max_assigned,\n",
    "  ANY_VALUE(res.autoscale.current_slots) as slots_autoscaling\n",
    "FROM\n",
    "  `region-us`.INFORMATION_SCHEMA.JOBS_TIMELINE_BY_ORGANIZATION jobs\n",
    "JOIN\n",
    "  `region-us`.INFORMATION_SCHEMA.RESERVATIONS_TIMELINE res\n",
    "  ON TIMESTAMP_TRUNC(jobs.period_start, MINUTE) = res.period_start\n",
    "     AND jobs.reservation_id = res.reservation_id\n",
    "WHERE\n",
    "  (jobs.job_creation_time > TIMESTAMP_SUB(CURRENT_TIMESTAMP(), INTERVAL 15 MINUTE))\n",
    "  AND (jobs.statement_type != \"SCRIPT\" OR jobs.statement_type IS NULL)  \n",
    "GROUP BY 1,2,3, 4\n",
    "  \n",
    "ORDER BY\n",
    "  period_start asc,\n",
    "  reservation_id\n",
    ")\n",
    "select reservation_id, project_id, user_email, (sum (slots.slots_autoscaling) + sum (slots.slots_assigned)) / 60 * 0.06 as editions_cost,  \n",
    "  (SUM(total_bytes_processed) / 1024 / 1024 / 1024 / 1024) * 6.25 AS on_demand_cost\n",
    "from slots group by 1,2,3"
   ]
  }
 ],
 "metadata": {
  "kernelspec": {
   "display_name": "venv (3.10.12)",
   "language": "python",
   "name": "python3"
  },
  "language_info": {
   "codemirror_mode": {
    "name": "ipython",
    "version": 3
   },
   "file_extension": ".py",
   "mimetype": "text/x-python",
   "name": "python",
   "nbconvert_exporter": "python",
   "pygments_lexer": "ipython3",
   "version": "3.10.12"
  }
 },
 "nbformat": 4,
 "nbformat_minor": 5
}
